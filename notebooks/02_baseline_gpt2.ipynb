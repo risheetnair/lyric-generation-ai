{
  "cells": [
    {
      "cell_type": "code",
      "execution_count": null,
      "id": "52c86a17",
      "metadata": {
        "id": "52c86a17"
      },
      "outputs": [],
      "source": [
        "!pip install transformers datasets accelerate evaluate scikit-learn matplotlib tqdm peft"
      ]
    }
  ],
  "metadata": {
    "language_info": {
      "name": "python"
    },
    "colab": {
      "provenance": []
    }
  },
  "nbformat": 4,
  "nbformat_minor": 5
}