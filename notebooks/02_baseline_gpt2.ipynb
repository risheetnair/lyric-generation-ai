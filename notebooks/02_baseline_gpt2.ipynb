{
  "cells": [
    {
      "cell_type": "code",
      "execution_count": null,
      "id": "52c86a17",
      "metadata": {
        "id": "52c86a17"
      },
      "outputs": [],
      "source": [
        "!pip install transformers datasets accelerate evaluate scikit-learn matplotlib tqdm peft"
      ]
    },
    {
      "cell_type": "code",
      "source": [
        "from google.colab import drive\n",
        "drive.mount('/content/drive')"
      ],
      "metadata": {
        "id": "eK65bDN2-Rmf",
        "outputId": "315335d4-697d-48c6-fdd9-2f79092a9890",
        "colab": {
          "base_uri": "https://localhost:8080/"
        }
      },
      "id": "eK65bDN2-Rmf",
      "execution_count": 1,
      "outputs": [
        {
          "output_type": "stream",
          "name": "stdout",
          "text": [
            "Mounted at /content/drive\n"
          ]
        }
      ]
    }
  ],
  "metadata": {
    "language_info": {
      "name": "python"
    },
    "colab": {
      "provenance": [],
      "gpuType": "T4"
    },
    "accelerator": "GPU",
    "kernelspec": {
      "name": "python3",
      "display_name": "Python 3"
    }
  },
  "nbformat": 4,
  "nbformat_minor": 5
}